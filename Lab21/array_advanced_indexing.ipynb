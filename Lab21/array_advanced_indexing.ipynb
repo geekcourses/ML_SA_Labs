{
 "cells": [
  {
   "cell_type": "code",
   "execution_count": 1,
   "metadata": {},
   "outputs": [],
   "source": [
    "import numpy as np"
   ]
  },
  {
   "cell_type": "markdown",
   "metadata": {},
   "source": [
    "# Advanced Indexing\n",
    "\n",
    "\n",
    "## Boolean indexing"
   ]
  },
  {
   "cell_type": "code",
   "execution_count": 3,
   "metadata": {},
   "outputs": [
    {
     "data": {
      "text/plain": [
       "array([1, 2, 3])"
      ]
     },
     "execution_count": 3,
     "metadata": {},
     "output_type": "execute_result"
    }
   ],
   "source": [
    "a = np.arange(1,4)\n",
    "a"
   ]
  },
  {
   "cell_type": "code",
   "execution_count": 6,
   "metadata": {},
   "outputs": [
    {
     "data": {
      "text/plain": [
       "array([1, 3])"
      ]
     },
     "execution_count": 6,
     "metadata": {},
     "output_type": "execute_result"
    }
   ],
   "source": [
    "a[ [True, False, True] ]"
   ]
  },
  {
   "cell_type": "code",
   "execution_count": 16,
   "metadata": {},
   "outputs": [
    {
     "name": "stdout",
     "output_type": "stream",
     "text": [
      "a:[1 2 3 4 5 6 7 8 9]\n",
      "[False  True False  True False  True False  True False]\n",
      "[2 4 6 8]\n"
     ]
    }
   ],
   "source": [
    "# TASK: get all even elemetns from array\n",
    "a = np.arange(1,10)\n",
    "print(f'a:{a}')\n",
    "\n",
    "filter = a%2==0\n",
    "print(filter)\n",
    "\n",
    "evens = a[ filter ]\n",
    "print(evens)"
   ]
  },
  {
   "cell_type": "code",
   "execution_count": 17,
   "metadata": {},
   "outputs": [
    {
     "name": "stdout",
     "output_type": "stream",
     "text": [
      "[2 4 6 8]\n"
     ]
    }
   ],
   "source": [
    "evens = a[ a%2==0 ]\n",
    "print(evens)"
   ]
  },
  {
   "cell_type": "code",
   "execution_count": 26,
   "metadata": {},
   "outputs": [
    {
     "name": "stdout",
     "output_type": "stream",
     "text": [
      "[4 5 6]\n",
      "[2 3]\n"
     ]
    }
   ],
   "source": [
    "# TASK: Let's have an array of 'scores', and for each score we'll have to assign a category from a predefined list. The goal is to group scores (first column) under 'bad' and 'good' categories, based on the second column.\n",
    "\n",
    "# Define the scores array\n",
    "scores = np.array([\n",
    "    [4, 1],\n",
    "    [2, 0],\n",
    "    [3, 0],\n",
    "    [5, 1],\n",
    "    [6, 1]\n",
    "])\n",
    "\n",
    "# Define the categories\n",
    "categories = ['bad', 'good']\n",
    "\n",
    "\n",
    "good_mask = scores[:,1]==1\n",
    "good_scores = scores[ good_mask, 0 ]\n",
    "# scores[ [True, False, False, True, True], 0 ]\n",
    "\n",
    "bad_scores=scores[ scores[:,1]==0, 0 ]\n",
    "\n",
    "print(good_scores)\n",
    "print(bad_scores)"
   ]
  },
  {
   "cell_type": "markdown",
   "metadata": {},
   "source": [
    "## Integer array indexig"
   ]
  },
  {
   "cell_type": "code",
   "execution_count": 27,
   "metadata": {},
   "outputs": [
    {
     "data": {
      "text/plain": [
       "array([1, 2, 3])"
      ]
     },
     "execution_count": 27,
     "metadata": {},
     "output_type": "execute_result"
    }
   ],
   "source": [
    "a = np.arange(1,4)\n",
    "a"
   ]
  },
  {
   "cell_type": "code",
   "execution_count": 31,
   "metadata": {},
   "outputs": [
    {
     "data": {
      "text/plain": [
       "array([1, 2, 2, 2, 2, 3, 2, 1, 1])"
      ]
     },
     "execution_count": 31,
     "metadata": {},
     "output_type": "execute_result"
    }
   ],
   "source": [
    "a[ [0,1,1,1,1,2,1,0,0] ]"
   ]
  },
  {
   "cell_type": "code",
   "execution_count": 32,
   "metadata": {},
   "outputs": [
    {
     "name": "stdout",
     "output_type": "stream",
     "text": [
      "['red' 'blue' 'green' 'blue' 'red' 'green' 'blue']\n"
     ]
    }
   ],
   "source": [
    "# TASK: map list elements to array of indexes\n",
    "# Given a NumPy array of repeated indexes (e.g., [0, 2, 1, 2, 0, 1, 2]) and a corresponding list of colors (e.g., ['red', 'green', 'blue']), map each index in the array to its respective color.\n",
    "\n",
    "# let's have a numpy array of repeated values 0, 1 or 2:\n",
    "# color_indexes = np.array([0, 2, 1, 2, 0, 1, 2])\n",
    "\n",
    "# # and an array of colors:\n",
    "# colors = np.array(['red', 'green', 'blue'])\n",
    "\n",
    "# mapped_colors = colors[color_indexes]\n",
    "# print(mapped_colors)\n"
   ]
  },
  {
   "cell_type": "code",
   "execution_count": null,
   "metadata": {},
   "outputs": [],
   "source": []
  }
 ],
 "metadata": {
  "kernelspec": {
   "display_name": ".venv",
   "language": "python",
   "name": "python3"
  },
  "language_info": {
   "codemirror_mode": {
    "name": "ipython",
    "version": 3
   },
   "file_extension": ".py",
   "mimetype": "text/x-python",
   "name": "python",
   "nbconvert_exporter": "python",
   "pygments_lexer": "ipython3",
   "version": "3.12.3"
  }
 },
 "nbformat": 4,
 "nbformat_minor": 2
}
