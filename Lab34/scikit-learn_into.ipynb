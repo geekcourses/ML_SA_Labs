{
 "cells": [
  {
   "cell_type": "code",
   "execution_count": 10,
   "metadata": {},
   "outputs": [],
   "source": [
    "import numpy as np\n",
    "from sklearn.neighbors import KNeighborsClassifier\n",
    "from sklearn.metrics import accuracy_score\n",
    "from sklearn import preprocessing"
   ]
  },
  {
   "cell_type": "markdown",
   "metadata": {},
   "source": [
    "## Simple Example"
   ]
  },
  {
   "cell_type": "code",
   "execution_count": 11,
   "metadata": {},
   "outputs": [],
   "source": [
    "### Prepare data\n",
    "## Train data\n",
    "# input: weight (grams) and color score (1-10 scale)\n",
    "X_train = [\n",
    "    [150, 7],  # Apple\n",
    "    [170, 8],  # Apple\n",
    "    [140, 6],  # Apple\n",
    "    [300, 4],  # Orange\n",
    "    [320, 5],  # Orange\n",
    "    [310, 4]   # Orange\n",
    "]\n",
    "\n",
    "# target: 0 for Apple, 1 for Orange\n",
    "y_train = [0, 0, 0, 1, 1, 1]\n",
    "\n",
    "## Test data\n",
    "X_test = [\n",
    "    [205, 4],  # Should be classified as Apple\n",
    "    [315, 5]   # Should be classified as Orange\n",
    "]\n",
    "y_test = [0, 1]  # Actual labels for the test data"
   ]
  },
  {
   "cell_type": "markdown",
   "metadata": {},
   "source": [
    "### Scaling features"
   ]
  },
  {
   "cell_type": "code",
   "execution_count": 12,
   "metadata": {},
   "outputs": [],
   "source": [
    "# min_max_scaler = preprocessing.MinMaxScaler()\n",
    "# min_max_scaler.fit_transform(X_train)"
   ]
  },
  {
   "cell_type": "markdown",
   "metadata": {},
   "source": [
    "## Encoding Categorical Variables with Scikit-learn\n",
    "\n",
    "TODO: Explain with example OneHotEncoder"
   ]
  },
  {
   "cell_type": "code",
   "execution_count": 13,
   "metadata": {},
   "outputs": [
    {
     "name": "stdout",
     "output_type": "stream",
     "text": [
      "(5, 1)\n",
      "[array(['Female', 'Male'], dtype='<U6')]\n"
     ]
    },
    {
     "data": {
      "text/plain": [
       "array([[0., 1.],\n",
       "       [0., 1.],\n",
       "       [0., 1.],\n",
       "       [1., 0.],\n",
       "       [1., 0.]])"
      ]
     },
     "execution_count": 13,
     "metadata": {},
     "output_type": "execute_result"
    }
   ],
   "source": [
    "from sklearn.preprocessing import OneHotEncoder\n",
    "\n",
    "x = np.array(\n",
    "    [\n",
    "        'Male',\n",
    "        'Male',\n",
    "        'Male',\n",
    "        'Female',\n",
    "        'Female'\n",
    "    ]\n",
    ")\n",
    "\n",
    "X = x.reshape(-1,1)\n",
    "print(X.shape)\n",
    "\n",
    "encoder = OneHotEncoder(handle_unknown='ignore')\n",
    "encoder.fit(X)\n",
    "\n",
    "print(encoder.categories_)\n",
    "encoder.transform(X).toarray()\n",
    "\n"
   ]
  },
  {
   "cell_type": "markdown",
   "metadata": {},
   "source": [
    "## Handling Missing Values"
   ]
  },
  {
   "cell_type": "code",
   "execution_count": 30,
   "metadata": {},
   "outputs": [
    {
     "data": {
      "text/plain": [
       "array([[nan, 30],\n",
       "       ['Male', nan],\n",
       "       ['Male', 34],\n",
       "       ['Female', 54],\n",
       "       ['Female', 23],\n",
       "       ['Female', 36]], dtype=object)"
      ]
     },
     "execution_count": 30,
     "metadata": {},
     "output_type": "execute_result"
    }
   ],
   "source": [
    "from sklearn.impute import SimpleImputer\n",
    "\n",
    "X = np.array(\n",
    "    [\n",
    "        ['Male', 30],\n",
    "        ['Male', 32],\n",
    "        ['Male', 34],\n",
    "        ['Female', 54],\n",
    "        ['Female', 23],\n",
    "        ['Female', 36],\n",
    "    ],\n",
    "    dtype=object\n",
    ")\n",
    "\n",
    "X[1,1] = np.NAN;\n",
    "X[0,0] = np.NAN;\n",
    "X"
   ]
  },
  {
   "cell_type": "code",
   "execution_count": 31,
   "metadata": {},
   "outputs": [
    {
     "name": "stdout",
     "output_type": "stream",
     "text": [
      "[[nan]\n",
      " ['Male']\n",
      " ['Male']\n",
      " ['Female']\n",
      " ['Female']\n",
      " ['Female']]\n",
      "[[30]\n",
      " [nan]\n",
      " [34]\n",
      " [54]\n",
      " [23]\n",
      " [36]]\n"
     ]
    }
   ],
   "source": [
    "gender_data = X[:,0].reshape(-1,1)\n",
    "age_data = X[:,1].reshape(-1,1)\n",
    "\n",
    "print(gender_data)\n",
    "print(age_data)"
   ]
  },
  {
   "cell_type": "code",
   "execution_count": 32,
   "metadata": {},
   "outputs": [
    {
     "name": "stdout",
     "output_type": "stream",
     "text": [
      "[['Female']\n",
      " ['Male']\n",
      " ['Male']\n",
      " ['Female']\n",
      " ['Female']\n",
      " ['Female']]\n",
      "[[30. ]\n",
      " [35.4]\n",
      " [34. ]\n",
      " [54. ]\n",
      " [23. ]\n",
      " [36. ]]\n"
     ]
    }
   ],
   "source": [
    "gender_imputer = SimpleImputer(strategy='most_frequent')\n",
    "age_inputer = SimpleImputer(strategy='mean')\n",
    "\n",
    "print(gender_imputer.fit_transform(gender_data))\n",
    "print(age_inputer.fit_transform(age_data))\n",
    "\n",
    "\n"
   ]
  },
  {
   "cell_type": "markdown",
   "metadata": {},
   "source": [
    "## train_test_split"
   ]
  },
  {
   "cell_type": "code",
   "execution_count": 42,
   "metadata": {},
   "outputs": [],
   "source": [
    "from sklearn.model_selection import train_test_split\n",
    "\n"
   ]
  },
  {
   "cell_type": "code",
   "execution_count": 43,
   "metadata": {},
   "outputs": [
    {
     "data": {
      "text/plain": [
       "array([['nan', '30'],\n",
       "       ['Male', 'nan'],\n",
       "       ['Male', '34'],\n",
       "       ['Female', '54'],\n",
       "       ['Female', '23']], dtype='<U21')"
      ]
     },
     "execution_count": 43,
     "metadata": {},
     "output_type": "execute_result"
    }
   ],
   "source": [
    "X"
   ]
  },
  {
   "cell_type": "code",
   "execution_count": 50,
   "metadata": {},
   "outputs": [
    {
     "name": "stdout",
     "output_type": "stream",
     "text": [
      "[['Male' '34']\n",
      " ['nan' '30']\n",
      " ['Female' '54']]\n",
      "[['Male' 'nan']\n",
      " ['Female' '23']]\n"
     ]
    }
   ],
   "source": [
    "X_train, X_test = train_test_split(X, train_size=0.75, random_state=42)\n",
    "print(X_train)\n",
    "print(X_test)\n",
    "\n"
   ]
  },
  {
   "cell_type": "code",
   "execution_count": 45,
   "metadata": {},
   "outputs": [
    {
     "data": {
      "text/plain": [
       "3.75"
      ]
     },
     "execution_count": 45,
     "metadata": {},
     "output_type": "execute_result"
    }
   ],
   "source": [
    "5*0.75"
   ]
  },
  {
   "cell_type": "code",
   "execution_count": null,
   "metadata": {},
   "outputs": [],
   "source": []
  }
 ],
 "metadata": {
  "kernelspec": {
   "display_name": ".venv",
   "language": "python",
   "name": "python3"
  },
  "language_info": {
   "codemirror_mode": {
    "name": "ipython",
    "version": 3
   },
   "file_extension": ".py",
   "mimetype": "text/x-python",
   "name": "python",
   "nbconvert_exporter": "python",
   "pygments_lexer": "ipython3",
   "version": "3.12.3"
  }
 },
 "nbformat": 4,
 "nbformat_minor": 2
}
