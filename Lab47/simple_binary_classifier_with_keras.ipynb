{
 "cells": [
  {
   "attachments": {},
   "cell_type": "markdown",
   "metadata": {},
   "source": [
    "# Hands on: Simple Binary Classifier with Keras\n",
    "\n",
    "## The task:\n",
    "In next example we will create a simple binary classifier that predicts whether a person is an adult or a child based on their height and weight\n"
   ]
  },
  {
   "attachments": {},
   "cell_type": "markdown",
   "metadata": {},
   "source": [
    "### Import necessary libraries"
   ]
  },
  {
   "cell_type": "code",
   "execution_count": 20,
   "metadata": {},
   "outputs": [],
   "source": [
    "import numpy as np\n",
    "import pandas as pd\n",
    "from sklearn.model_selection import train_test_split\n",
    "import seaborn as sns\n",
    "import matplotlib.pyplot as plt\n",
    "import keras\n",
    "from keras.models import Sequential\n",
    "from keras.layers import Dense\n"
   ]
  },
  {
   "attachments": {},
   "cell_type": "markdown",
   "metadata": {},
   "source": [
    "## Load and prepare the data"
   ]
  },
  {
   "cell_type": "code",
   "execution_count": 21,
   "metadata": {},
   "outputs": [
    {
     "data": {
      "text/html": [
       "<div>\n",
       "<style scoped>\n",
       "    .dataframe tbody tr th:only-of-type {\n",
       "        vertical-align: middle;\n",
       "    }\n",
       "\n",
       "    .dataframe tbody tr th {\n",
       "        vertical-align: top;\n",
       "    }\n",
       "\n",
       "    .dataframe thead th {\n",
       "        text-align: right;\n",
       "    }\n",
       "</style>\n",
       "<table border=\"1\" class=\"dataframe\">\n",
       "  <thead>\n",
       "    <tr style=\"text-align: right;\">\n",
       "      <th></th>\n",
       "      <th>height</th>\n",
       "      <th>weight</th>\n",
       "      <th>age</th>\n",
       "    </tr>\n",
       "  </thead>\n",
       "  <tbody>\n",
       "    <tr>\n",
       "      <th>0</th>\n",
       "      <td>174.125607</td>\n",
       "      <td>70.345060</td>\n",
       "      <td>1</td>\n",
       "    </tr>\n",
       "    <tr>\n",
       "      <th>1</th>\n",
       "      <td>120.867691</td>\n",
       "      <td>30.756327</td>\n",
       "      <td>0</td>\n",
       "    </tr>\n",
       "    <tr>\n",
       "      <th>2</th>\n",
       "      <td>176.109308</td>\n",
       "      <td>71.767368</td>\n",
       "      <td>1</td>\n",
       "    </tr>\n",
       "    <tr>\n",
       "      <th>3</th>\n",
       "      <td>119.414350</td>\n",
       "      <td>29.891714</td>\n",
       "      <td>0</td>\n",
       "    </tr>\n",
       "    <tr>\n",
       "      <th>4</th>\n",
       "      <td>177.493092</td>\n",
       "      <td>71.611111</td>\n",
       "      <td>1</td>\n",
       "    </tr>\n",
       "    <tr>\n",
       "      <th>...</th>\n",
       "      <td>...</td>\n",
       "      <td>...</td>\n",
       "      <td>...</td>\n",
       "    </tr>\n",
       "    <tr>\n",
       "      <th>9995</th>\n",
       "      <td>176.559964</td>\n",
       "      <td>70.677399</td>\n",
       "      <td>1</td>\n",
       "    </tr>\n",
       "    <tr>\n",
       "      <th>9996</th>\n",
       "      <td>176.279933</td>\n",
       "      <td>69.098633</td>\n",
       "      <td>1</td>\n",
       "    </tr>\n",
       "    <tr>\n",
       "      <th>9997</th>\n",
       "      <td>173.713293</td>\n",
       "      <td>70.194822</td>\n",
       "      <td>1</td>\n",
       "    </tr>\n",
       "    <tr>\n",
       "      <th>9998</th>\n",
       "      <td>175.987975</td>\n",
       "      <td>70.377601</td>\n",
       "      <td>1</td>\n",
       "    </tr>\n",
       "    <tr>\n",
       "      <th>9999</th>\n",
       "      <td>176.303753</td>\n",
       "      <td>70.292082</td>\n",
       "      <td>1</td>\n",
       "    </tr>\n",
       "  </tbody>\n",
       "</table>\n",
       "<p>10000 rows × 3 columns</p>\n",
       "</div>"
      ],
      "text/plain": [
       "          height     weight  age\n",
       "0     174.125607  70.345060    1\n",
       "1     120.867691  30.756327    0\n",
       "2     176.109308  71.767368    1\n",
       "3     119.414350  29.891714    0\n",
       "4     177.493092  71.611111    1\n",
       "...          ...        ...  ...\n",
       "9995  176.559964  70.677399    1\n",
       "9996  176.279933  69.098633    1\n",
       "9997  173.713293  70.194822    1\n",
       "9998  175.987975  70.377601    1\n",
       "9999  176.303753  70.292082    1\n",
       "\n",
       "[10000 rows x 3 columns]"
      ]
     },
     "execution_count": 21,
     "metadata": {},
     "output_type": "execute_result"
    }
   ],
   "source": [
    "df = pd.read_csv('https://media.githubusercontent.com/media/geekcourses/ML_SA-Slides/refs/heads/main/pages/themes/ANN_DeepLearning_Keras/examples/keras_intro_child_adults/adulat_child_1.csv')\n",
    "df"
   ]
  },
  {
   "cell_type": "code",
   "execution_count": 22,
   "metadata": {},
   "outputs": [
    {
     "data": {
      "text/plain": [
       "<Axes: xlabel='height', ylabel='weight'>"
      ]
     },
     "execution_count": 22,
     "metadata": {},
     "output_type": "execute_result"
    },
    {
     "data": {
      "image/png": "[encoded data removed]",
      "text/plain": [
       "<Figure size 640x480 with 1 Axes>"
      ]
     },
     "metadata": {},
     "output_type": "display_data"
    }
   ],
   "source": [
    "### plot the data\n",
    "sns.scatterplot(data=df, x='height', y='weight', hue='age', palette='coolwarm')"
   ]
  },
  {
   "cell_type": "code",
   "execution_count": 23,
   "metadata": {},
   "outputs": [],
   "source": [
    "# Split features and target\n",
    "X = df[['height', 'weight']].values  # Features: height and weight\n",
    "y = df['age'].values                 # Target: age (0 for child, 1 for adult)\n",
    "\n",
    "# Split data into training and testing sets\n",
    "X_train, X_test, y_train, y_test = train_test_split(X, y, test_size=0.2, random_state=42)"
   ]
  },
  {
   "attachments": {},
   "cell_type": "markdown",
   "metadata": {},
   "source": [
    "### Define model architecture\n",
    "\n",
    "We will create a neural network model with two sequential dense layers (a layer of neurons in which each neuron is connected to every neuron in the preceding layer):\n",
    "\n",
    "1. The first one will be the input layer with 4 units (neurons) and uses the relu activation function. It also has an input dimentions of 2, which specifies that the input data to the neural network has two features.\n",
    "\n",
    "2. The second dense layer - the output one - has 1 unit and uses the sigmoid activation function. This layer is used for binary classification problems, where the output is a single probability value between 0 and 1 indicating the probability of the input belonging to the positive class.\n",
    "\n",
    "With Sequential() function, we create a model object to which we add layers, one at a time, using the .add() method. This is a simple and straightforward way to create a neural network in Keras."
   ]
  },
  {
   "cell_type": "code",
   "execution_count": 24,
   "metadata": {},
   "outputs": [
    {
     "name": "stderr",
     "output_type": "stream",
     "text": [
      "/media/nemsys/data/projects/courses/netIT/ML_SA/ML_SA_Labs/.venv/lib/python3.12/site-packages/keras/src/layers/core/dense.py:87: UserWarning: Do not pass an `input_shape`/`input_dim` argument to a layer. When using Sequential models, prefer using an `Input(shape)` object as the first layer in the model instead.\n",
      "  super().__init__(activity_regularizer=activity_regularizer, **kwargs)\n"
     ]
    }
   ],
   "source": [
    "model = Sequential()\n",
    "model.add(Dense(units=32, input_dim=2,activation=\"relu\"))\n",
    "model.add(Dense(units=1,activation='sigmoid'))"
   ]
  },
  {
   "attachments": {},
   "cell_type": "markdown",
   "metadata": {},
   "source": [
    "#### How to select the optimal number of units in a layer?\n",
    "\n",
    "The optimal number of units for a given layer depends on several factors, including the complexity of the problem, the size of the training data, and the architecture of the neural network. \n",
    "Here are some general guidelines that you can follow to set the number of units in a layer:\n",
    "\n",
    "*Start with a small number of units*: It's usually a good idea to start with a small number of units and gradually increase the number as needed. This can help prevent overfitting and reduce the computational cost of training the network.\n",
    "\n",
    "*Use a rule of thumb*: There are several rules of thumb for determining the number of units in a layer, such as the \"sqrt\" rule, which suggests using the square root of the number of inputs to the layer (i.e. number of features), or the \"2/3\" rule, which suggests using 2/3 of the number of inputs to the layer. These rules can provide a starting point for setting the number of units, but they may not be optimal for all problems.\n",
    "\n",
    "Experiment with different values: The best way to determine the optimal number of units for a given layer is to experiment with different values and evaluate the performance of the network on a validation set. You can try increasing or decreasing the number of units in the layer and see how it affects the performance of the network."
   ]
  },
  {
   "attachments": {},
   "cell_type": "markdown",
   "metadata": {},
   "source": [
    "### Compile and fit the model"
   ]
  },
  {
   "cell_type": "code",
   "execution_count": 25,
   "metadata": {},
   "outputs": [
    {
     "name": "stdout",
     "output_type": "stream",
     "text": [
      "Epoch 1/10\n"
     ]
    },
    {
     "name": "stdout",
     "output_type": "stream",
     "text": [
      "\u001b[1m1000/1000\u001b[0m \u001b[32m━━━━━━━━━━━━━━━━━━━━\u001b[0m\u001b[37m\u001b[0m \u001b[1m4s\u001b[0m 3ms/step - accuracy: 0.4927 - loss: 8.3684\n",
      "Epoch 2/10\n",
      "\u001b[1m1000/1000\u001b[0m \u001b[32m━━━━━━━━━━━━━━━━━━━━\u001b[0m\u001b[37m\u001b[0m \u001b[1m2s\u001b[0m 2ms/step - accuracy: 0.5141 - loss: 0.6935\n",
      "Epoch 3/10\n",
      "\u001b[1m1000/1000\u001b[0m \u001b[32m━━━━━━━━━━━━━━━━━━━━\u001b[0m\u001b[37m\u001b[0m \u001b[1m4s\u001b[0m 4ms/step - accuracy: 0.4968 - loss: 0.6942\n",
      "Epoch 4/10\n",
      "\u001b[1m1000/1000\u001b[0m \u001b[32m━━━━━━━━━━━━━━━━━━━━\u001b[0m\u001b[37m\u001b[0m \u001b[1m3s\u001b[0m 3ms/step - accuracy: 0.5023 - loss: 0.6937\n",
      "Epoch 5/10\n",
      "\u001b[1m1000/1000\u001b[0m \u001b[32m━━━━━━━━━━━━━━━━━━━━\u001b[0m\u001b[37m\u001b[0m \u001b[1m4s\u001b[0m 4ms/step - accuracy: 0.4935 - loss: 0.6941\n",
      "Epoch 6/10\n",
      "\u001b[1m1000/1000\u001b[0m \u001b[32m━━━━━━━━━━━━━━━━━━━━\u001b[0m\u001b[37m\u001b[0m \u001b[1m4s\u001b[0m 4ms/step - accuracy: 0.4996 - loss: 0.6939\n",
      "Epoch 7/10\n",
      "\u001b[1m1000/1000\u001b[0m \u001b[32m━━━━━━━━━━━━━━━━━━━━\u001b[0m\u001b[37m\u001b[0m \u001b[1m4s\u001b[0m 3ms/step - accuracy: 0.4949 - loss: 0.6939\n",
      "Epoch 8/10\n",
      "\u001b[1m1000/1000\u001b[0m \u001b[32m━━━━━━━━━━━━━━━━━━━━\u001b[0m\u001b[37m\u001b[0m \u001b[1m3s\u001b[0m 3ms/step - accuracy: 0.4978 - loss: 0.6937\n",
      "Epoch 9/10\n",
      "\u001b[1m1000/1000\u001b[0m \u001b[32m━━━━━━━━━━━━━━━━━━━━\u001b[0m\u001b[37m\u001b[0m \u001b[1m4s\u001b[0m 4ms/step - accuracy: 0.4948 - loss: 0.6946\n",
      "Epoch 10/10\n",
      "\u001b[1m1000/1000\u001b[0m \u001b[32m━━━━━━━━━━━━━━━━━━━━\u001b[0m\u001b[37m\u001b[0m \u001b[1m5s\u001b[0m 4ms/step - accuracy: 0.4946 - loss: 0.6942\n"
     ]
    },
    {
     "data": {
      "text/plain": [
       "<keras.src.callbacks.history.History at 0x7f11160c69c0>"
      ]
     },
     "execution_count": 25,
     "metadata": {},
     "output_type": "execute_result"
    }
   ],
   "source": [
    "# Compile your model\n",
    "model.compile(\n",
    "    optimizer=keras.optimizers.SGD(learning_rate=0.1),\n",
    "    loss='binary_crossentropy',\n",
    "    metrics=['accuracy']\n",
    ")\n",
    "\n",
    "# Train the model\n",
    "model.fit(\n",
    "    X_train, y_train,\n",
    "    epochs=10,\n",
    "    batch_size=8,\n",
    "    validation_split=0,\n",
    "    verbose=1\n",
    ")"
   ]
  },
  {
   "cell_type": "code",
   "execution_count": 26,
   "metadata": {},
   "outputs": [
    {
     "data": {
      "text/plain": [
       "[<Dense name=dense_4, built=True>, <Dense name=dense_5, built=True>]"
      ]
     },
     "execution_count": 26,
     "metadata": {},
     "output_type": "execute_result"
    }
   ],
   "source": [
    "model.layers"
   ]
  },
  {
   "cell_type": "code",
   "execution_count": 27,
   "metadata": {},
   "outputs": [
    {
     "name": "stdout",
     "output_type": "stream",
     "text": [
      "Layer dense_4 weights: [array([[-4.8111710e-01, -2.5597696e+00, -1.3259154e+01, -3.6265728e-01,\n",
      "        -2.5131792e-02, -2.6479381e-01, -1.9870187e-01, -2.2359252e-01,\n",
      "        -4.0463039e-01, -6.4494640e-02, -5.4799765e-02,  5.9650004e-02,\n",
      "        -1.1204501e+00, -3.5485405e-01, -6.3294280e-01, -1.5749577e-01,\n",
      "        -3.7903196e-01, -1.9862579e+01, -2.1367044e+00, -1.1723279e+00,\n",
      "        -3.3049732e-02, -4.0500006e-01, -1.3953730e-01, -4.0617299e-01,\n",
      "         4.6502560e-02, -5.2349691e+00, -3.5516894e-01, -2.2214407e-01,\n",
      "        -2.9362679e-02, -1.9195681e+00, -2.0607063e-01, -2.1620655e+01],\n",
      "       [-3.5882246e-01, -1.6124423e+00, -5.8683305e+00,  7.6138169e-02,\n",
      "        -3.9874932e-01,  4.0337041e-01, -2.2114724e-02, -4.6854508e-01,\n",
      "         4.4194579e-02, -2.6989865e-01, -1.4404383e-01, -4.1415411e-01,\n",
      "        -1.5377071e-01,  2.8764388e-01, -2.0788425e-01, -2.0495683e-02,\n",
      "        -2.5558549e-01, -7.9911509e+00, -1.2920823e+00, -4.8142621e-01,\n",
      "        -2.1696058e-01, -4.1750583e-01,  1.4901498e-01, -4.1834381e-01,\n",
      "        -2.6637375e-01, -2.5226777e+00, -3.1775311e-01, -5.3158998e-01,\n",
      "        -6.9841266e-02, -3.0629888e-01, -9.2823021e-02, -8.7789755e+00]],\n",
      "      dtype=float32), array([-0.00574165, -0.01044332, -0.07422183,  0.        ,  0.        ,\n",
      "        0.        ,  0.        ,  0.00018626,  0.        ,  0.        ,\n",
      "        0.        ,  0.        , -0.0113265 ,  0.        , -0.00720524,\n",
      "        0.        ,  0.        , -0.11421302, -0.00429527, -0.01038798,\n",
      "        0.        ,  0.        ,  0.        ,  0.        ,  0.        ,\n",
      "       -0.02775881,  0.        , -0.00409012,  0.        , -0.01826325,\n",
      "       -0.00262936, -0.12140659], dtype=float32)]\n",
      "Layer dense_5 weights: [array([[-1.0885457e+00],\n",
      "       [ 1.6790134e+01],\n",
      "       [ 1.1239974e+01],\n",
      "       [-3.8126564e-01],\n",
      "       [ 1.8683475e-01],\n",
      "       [ 6.4398944e-03],\n",
      "       [-5.7900071e-02],\n",
      "       [ 6.2140570e+00],\n",
      "       [-4.1128144e-01],\n",
      "       [-2.3236290e-01],\n",
      "       [-1.5421772e-01],\n",
      "       [ 3.1658202e-01],\n",
      "       [-1.8858744e+00],\n",
      "       [ 2.2374457e-01],\n",
      "       [-1.5932148e+00],\n",
      "       [ 3.4367061e-01],\n",
      "       [-6.0749859e-02],\n",
      "       [ 4.0866857e+00],\n",
      "       [ 2.8736034e+01],\n",
      "       [-2.4991453e-02],\n",
      "       [ 1.6607571e-01],\n",
      "       [ 1.6460586e-01],\n",
      "       [-3.1309494e-01],\n",
      "       [ 3.1678832e-01],\n",
      "       [ 1.2255329e-01],\n",
      "       [ 1.0300471e+01],\n",
      "       [ 3.8125515e-01],\n",
      "       [-1.1685703e+00],\n",
      "       [-7.9862624e-02],\n",
      "       [-2.0912402e+00],\n",
      "       [-7.3608673e-01],\n",
      "       [ 1.4525586e+01]], dtype=float32), array([-0.13806686], dtype=float32)]\n"
     ]
    }
   ],
   "source": [
    "# Print fitted model parameters\n",
    "for layer in model.layers:\n",
    "    print(f\"Layer {layer.name} weights: {layer.get_weights()}\")\n"
   ]
  },
  {
   "cell_type": "markdown",
   "metadata": {},
   "source": [
    "### Evaluate the model and make predictions"
   ]
  },
  {
   "cell_type": "code",
   "execution_count": 28,
   "metadata": {},
   "outputs": [
    {
     "name": "stdout",
     "output_type": "stream",
     "text": [
      "\u001b[1m63/63\u001b[0m \u001b[32m━━━━━━━━━━━━━━━━━━━━\u001b[0m\u001b[37m\u001b[0m \u001b[1m1s\u001b[0m 3ms/step - accuracy: 0.4874 - loss: 0.6973\n",
      "Test Accuracy: 0.49\n"
     ]
    }
   ],
   "source": [
    "# Evaluate the model\n",
    "test_loss, test_acc = model.evaluate(X_test, y_test, verbose=1)\n",
    "print(f'Test Accuracy: {test_acc:.2f}')"
   ]
  },
  {
   "cell_type": "code",
   "execution_count": 29,
   "metadata": {},
   "outputs": [
    {
     "name": "stdout",
     "output_type": "stream",
     "text": [
      "\u001b[1m1/1\u001b[0m \u001b[32m━━━━━━━━━━━━━━━━━━━━\u001b[0m\u001b[37m\u001b[0m \u001b[1m0s\u001b[0m 98ms/step\n",
      "[[0.46553802]\n",
      " [0.46553802]]\n",
      "[0 0]\n"
     ]
    }
   ],
   "source": [
    "# Make predictions on new data  [Height, Weight]\n",
    "new_data = np.array([[190, 120], [220,  120]])\n",
    "predictions = model.predict(new_data)\n",
    "\n",
    "print(predictions)\n",
    "# print(\"Predicted Classes:\", (predictions > 0.5).astype(int))  # 0 = Child, 1 = Adult\n",
    "\n",
    "predicted_classes = predictions.argmax(axis=-1)\n",
    "print(predicted_classes)"
   ]
  },
  {
   "attachments": {},
   "cell_type": "markdown",
   "metadata": {},
   "source": [
    "### Improve model performance: tune model hyperparameters\n",
    "\n",
    "We see that model performance is not quite good. We can improve it by:\n",
    "\n",
    "1. Increasing the amount of training data: The more data you have, the better your model can learn to generalize to new examples. You could try generating more training data or finding additional real-world data to add to your training set.\n",
    "\n",
    "2. Improve the quality of the training data: Make sure that your training data is representative of the problem you're trying to solve and that it is labeled correctly. If your training data contains errors or is biased, your model's performance will suffer.\n",
    "\n",
    "3. Adjust the model architecture: Experiment with different numbers of layers, units, and activation functions in your model. You could also try adding regularization (such as dropout or weight decay) to prevent overfitting.\n",
    "\n",
    "4. Tune the hyperparameters: The hyperparameters (such as learning rate, batch size, and number of epochs) can have a big impact on your model's performance. Try different combinations of hyperparameters and use a validation set to evaluate their effectiveness.\n",
    "\n",
    "\n",
    "#### Key Hyperparameters to Tune in Keras\n",
    "1. **Learning Rate** (`optimizer` parameter):\n",
    "   The **learning rate** is a hyperparameter that controls how much the model’s weights are adjusted with respect to the loss gradient during training. It determines the step size taken during optimization in the direction of minimizing the loss function. \n",
    "\n",
    "   - **Too High Learning Rate**:\n",
    "      - Causes the model to converge quickly, but the steps are too large.\n",
    "      - Leads to **oscillations** and potentially **diverges** from the optimal solution.\n",
    "      \n",
    "   - **Too Low Learning Rate**:\n",
    "      - Takes smaller steps, making the training process very slow.\n",
    "      - Might get **stuck in local minima** and fail to reach the global minimum.\n",
    "\n",
    "   - Example: `0.001`, `0.01`, `0.0001`\n",
    "\n",
    "2. **Batch Size**:\n",
    "   - Defines the number of training samples to be used in one forward and backward pass during the training process. It determines how many samples are processed before the model updates its internal parameters (weights).\n",
    "\n",
    "   - Example: `16`, `32`, `64`\n",
    "\n",
    "3. **Number of Layers and Units**:\n",
    "   - Choose the number of hidden layers and units in each layer.\n",
    "   - Example: `(64, 32, 16)` vs. `(128, 64, 32)`\n",
    "\n",
    "4. **Activation Functions**:\n",
    "   - Try different activations like `relu`, `sigmoid`, `tanh`.\n",
    "   \n",
    "5. **Dropout Rate**:\n",
    "   - **Dropout** is a regularization technique used to prevent **overfitting** in neural networks. During training, dropout randomly sets a fraction of the neurons (units) to zero at each layer, effectively “dropping out” those neurons from the network temporarily.\n",
    "\n",
    "   - The **dropout rate** is a hyperparameter that defines the fraction of neurons to be dropped during training. It is a value between `0` and `1`:\n",
    "\n",
    "      - **Dropout Rate = 0**: No units are dropped.\n",
    "      - **Dropout Rate = 0.5**: 50% of units are dropped randomly.\n",
    "      - **Dropout Rate = 1**: All units are dropped, making the network inactive (not recommended).\n",
    "\n",
    "   - Example: `0.2`, `0.5`\n",
    "\n",
    "6. **Optimizer Type**:\n",
    "   - Different optimizers can converge differently (e.g., `adam`, `sgd`, `rmsprop`).\n"
   ]
  },
  {
   "cell_type": "markdown",
   "metadata": {},
   "source": [
    "\n",
    "### 3. Hyperparameter Tuning with `keras-tuner`\n",
    "You can use the `keras-tuner` library to automate the hyperparameter tuning process.\n",
    "\n"
   ]
  },
  {
   "cell_type": "code",
   "execution_count": 30,
   "metadata": {},
   "outputs": [],
   "source": [
    "# import tensorflow as tf\n",
    "# from tensorflow.keras import layers\n",
    "# from kerastuner import HyperModel\n",
    "# from kerastuner.tuners import RandomSearch\n",
    "\n",
    "# # Define a hypermodel class\n",
    "# class MyHyperModel(HyperModel):\n",
    "#     def build(self, hp):\n",
    "#         model = tf.keras.Sequential()\n",
    "#         # Tune number of hidden layers\n",
    "#         for i in range(hp.Int('num_layers', 1, 3)):\n",
    "#             model.add(layers.Dense(units=hp.Int('units_' + str(i),\n",
    "#                                                 min_value=32,\n",
    "#                                                 max_value=128,\n",
    "#                                                 step=32),\n",
    "#                                    activation='relu'))\n",
    "#             model.add(layers.Dropout(rate=hp.Float('dropout_' + str(i),\n",
    "#                                                    min_value=0.0,\n",
    "#                                                    max_value=0.5,\n",
    "#                                                    step=0.1)))\n",
    "#         model.add(layers.Dense(1, activation='sigmoid'))\n",
    "#         model.compile(optimizer='adam',\n",
    "#                       loss='binary_crossentropy',\n",
    "#                       metrics=['accuracy'])\n",
    "#         return model\n",
    "\n",
    "# # Instantiate and run Random Search\n",
    "# tuner = RandomSearch(\n",
    "#     MyHyperModel(),\n",
    "#     objective='val_accuracy',\n",
    "#     max_trials=5,\n",
    "#     executions_per_trial=3,\n",
    "#     directory='my_dir',\n",
    "#     project_name='hyperparameter_tuning')\n",
    "\n",
    "# # Split the dataset for tuning\n",
    "# tuner.search(X_train, y_train, epochs=5, validation_data=(X_test, y_test))"
   ]
  },
  {
   "cell_type": "code",
   "execution_count": 31,
   "metadata": {},
   "outputs": [],
   "source": [
    "# # Print the best hyperparameters\n",
    "# best_hps = tuner.get_best_hyperparameters(num_trials=1)[0]\n",
    "# print(f\"\"\"\n",
    "# The best number of layers is: {best_hps.get('num_layers')}\n",
    "# The units in each layer are: {[best_hps.get(f'units_{i}') for i in range(best_hps.get('num_layers'))]}\n",
    "# The dropout rates for each layer are: {[best_hps.get(f'dropout_{i}') for i in range(best_hps.get('num_layers'))]}\n",
    "# \"\"\")"
   ]
  }
 ],
 "metadata": {
  "kernelspec": {
   "display_name": ".venv",
   "language": "python",
   "name": "python3"
  },
  "language_info": {
   "codemirror_mode": {
    "name": "ipython",
    "version": 3
   },
   "file_extension": ".py",
   "mimetype": "text/x-python",
   "name": "python",
   "nbconvert_exporter": "python",
   "pygments_lexer": "ipython3",
   "version": "3.12.3"
  },
  "orig_nbformat": 4,
  "vscode": {
   "interpreter": {
    "hash": "80d53e83da47a8dbd3f05a73e91e3e7dbf0e420a2da730c28d0eaee714054d51"
   }
  }
 },
 "nbformat": 4,
 "nbformat_minor": 2
}
