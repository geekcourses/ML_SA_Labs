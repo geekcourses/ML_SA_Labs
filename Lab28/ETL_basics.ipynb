{
 "cells": [
  {
   "cell_type": "code",
   "execution_count": 8,
   "metadata": {},
   "outputs": [],
   "source": [
    "import pandas as pd\n",
    "import numpy as np\n",
    "import datetime"
   ]
  },
  {
   "cell_type": "markdown",
   "metadata": {},
   "source": [
    "# ETL Basics\n",
    "\n",
    "Extract->Transform->Load\n",
    "\n"
   ]
  },
  {
   "cell_type": "markdown",
   "metadata": {},
   "source": [
    "## Extract\n"
   ]
  },
  {
   "cell_type": "code",
   "execution_count": 9,
   "metadata": {},
   "outputs": [],
   "source": [
    "facebook_ads = pd.read_csv('https://raw.githubusercontent.com/geekcourses/JupyterNotebooksExamples/master/Notebooks/ETL/datasets/facebook_ads.csv')\n",
    "google_ads = pd.read_csv('https://raw.githubusercontent.com/geekcourses/JupyterNotebooksExamples/master/Notebooks/ETL/datasets/google_ads.csv')"
   ]
  },
  {
   "cell_type": "code",
   "execution_count": 10,
   "metadata": {},
   "outputs": [
    {
     "data": {
      "text/html": [
       "<div>\n",
       "<style scoped>\n",
       "    .dataframe tbody tr th:only-of-type {\n",
       "        vertical-align: middle;\n",
       "    }\n",
       "\n",
       "    .dataframe tbody tr th {\n",
       "        vertical-align: top;\n",
       "    }\n",
       "\n",
       "    .dataframe thead th {\n",
       "        text-align: right;\n",
       "    }\n",
       "</style>\n",
       "<table border=\"1\" class=\"dataframe\">\n",
       "  <thead>\n",
       "    <tr style=\"text-align: right;\">\n",
       "      <th></th>\n",
       "      <th>date</th>\n",
       "      <th>impressions</th>\n",
       "      <th>clicks</th>\n",
       "      <th>spent</th>\n",
       "    </tr>\n",
       "  </thead>\n",
       "  <tbody>\n",
       "    <tr>\n",
       "      <th>0</th>\n",
       "      <td>01/21/2023</td>\n",
       "      <td>9374</td>\n",
       "      <td>283</td>\n",
       "      <td>380.13</td>\n",
       "    </tr>\n",
       "    <tr>\n",
       "      <th>1</th>\n",
       "      <td>03/13/2023</td>\n",
       "      <td>6496</td>\n",
       "      <td>850</td>\n",
       "      <td>201.62</td>\n",
       "    </tr>\n",
       "    <tr>\n",
       "      <th>2</th>\n",
       "      <td>03/29/2023</td>\n",
       "      <td>9267</td>\n",
       "      <td>251</td>\n",
       "      <td>422.72</td>\n",
       "    </tr>\n",
       "    <tr>\n",
       "      <th>3</th>\n",
       "      <td>04/10/2023</td>\n",
       "      <td>289</td>\n",
       "      <td>786</td>\n",
       "      <td>230.38</td>\n",
       "    </tr>\n",
       "    <tr>\n",
       "      <th>4</th>\n",
       "      <td>04/13/2023</td>\n",
       "      <td>1284</td>\n",
       "      <td>828</td>\n",
       "      <td>308.90</td>\n",
       "    </tr>\n",
       "  </tbody>\n",
       "</table>\n",
       "</div>"
      ],
      "text/plain": [
       "         date  impressions  clicks   spent\n",
       "0  01/21/2023         9374     283  380.13\n",
       "1  03/13/2023         6496     850  201.62\n",
       "2  03/29/2023         9267     251  422.72\n",
       "3  04/10/2023          289     786  230.38\n",
       "4  04/13/2023         1284     828  308.90"
      ]
     },
     "execution_count": 10,
     "metadata": {},
     "output_type": "execute_result"
    }
   ],
   "source": [
    "facebook_ads.head()"
   ]
  },
  {
   "cell_type": "code",
   "execution_count": 11,
   "metadata": {},
   "outputs": [
    {
     "data": {
      "text/html": [
       "<div>\n",
       "<style scoped>\n",
       "    .dataframe tbody tr th:only-of-type {\n",
       "        vertical-align: middle;\n",
       "    }\n",
       "\n",
       "    .dataframe tbody tr th {\n",
       "        vertical-align: top;\n",
       "    }\n",
       "\n",
       "    .dataframe thead th {\n",
       "        text-align: right;\n",
       "    }\n",
       "</style>\n",
       "<table border=\"1\" class=\"dataframe\">\n",
       "  <thead>\n",
       "    <tr style=\"text-align: right;\">\n",
       "      <th></th>\n",
       "      <th>Date</th>\n",
       "      <th>Impressions</th>\n",
       "      <th>Clicks</th>\n",
       "      <th>Cost</th>\n",
       "    </tr>\n",
       "  </thead>\n",
       "  <tbody>\n",
       "    <tr>\n",
       "      <th>0</th>\n",
       "      <td>21/06/2023</td>\n",
       "      <td>2834</td>\n",
       "      <td>355</td>\n",
       "      <td>203.62</td>\n",
       "    </tr>\n",
       "    <tr>\n",
       "      <th>1</th>\n",
       "      <td>02/05/2023</td>\n",
       "      <td>7949</td>\n",
       "      <td>610</td>\n",
       "      <td>111.89</td>\n",
       "    </tr>\n",
       "    <tr>\n",
       "      <th>2</th>\n",
       "      <td>03/08/2023</td>\n",
       "      <td>2147</td>\n",
       "      <td>325</td>\n",
       "      <td>288.17</td>\n",
       "    </tr>\n",
       "    <tr>\n",
       "      <th>3</th>\n",
       "      <td>04/10/2023</td>\n",
       "      <td>3656</td>\n",
       "      <td>464</td>\n",
       "      <td>423.82</td>\n",
       "    </tr>\n",
       "    <tr>\n",
       "      <th>4</th>\n",
       "      <td>05/11/2023</td>\n",
       "      <td>1999</td>\n",
       "      <td>349</td>\n",
       "      <td>170.00</td>\n",
       "    </tr>\n",
       "  </tbody>\n",
       "</table>\n",
       "</div>"
      ],
      "text/plain": [
       "         Date  Impressions  Clicks    Cost\n",
       "0  21/06/2023         2834     355  203.62\n",
       "1  02/05/2023         7949     610  111.89\n",
       "2  03/08/2023         2147     325  288.17\n",
       "3  04/10/2023         3656     464  423.82\n",
       "4  05/11/2023         1999     349  170.00"
      ]
     },
     "execution_count": 11,
     "metadata": {},
     "output_type": "execute_result"
    }
   ],
   "source": [
    "google_ads.head()"
   ]
  },
  {
   "cell_type": "code",
   "execution_count": 20,
   "metadata": {},
   "outputs": [
    {
     "name": "stdout",
     "output_type": "stream",
     "text": [
      "Wrong format\n"
     ]
    },
    {
     "data": {
      "text/plain": [
       "'06/21/2023'"
      ]
     },
     "execution_count": 20,
     "metadata": {},
     "output_type": "execute_result"
    }
   ],
   "source": [
    "date_str = '21/06/2023'\n",
    "\n",
    "try:\n",
    "    date_obj = datetime.datetime.strptime(date_str,'%d/%m/%y')\n",
    "except:\n",
    "    print('Wrong format')\n",
    "\n",
    "\n",
    "date_str_other_format = datetime.datetime.strftime(date_obj,'%m/%d/%Y')\n",
    "date_str_other_format"
   ]
  },
  {
   "cell_type": "code",
   "execution_count": 22,
   "metadata": {},
   "outputs": [
    {
     "data": {
      "text/plain": [
       "'2023-06-21'"
      ]
     },
     "execution_count": 22,
     "metadata": {},
     "output_type": "execute_result"
    }
   ],
   "source": [
    "def standardize_date(date_string, input_formats, output_format='%Y-%m-%d'):\n",
    "    \"\"\"\n",
    "        Attempts to convert a date string from various formats to a standardized format.\n",
    "\n",
    "        Args:\n",
    "            date_string (str): The date string to standardize.\n",
    "            input_formats (list): A list of strings representing date formats to attempt.\n",
    "            output_format (str): The target format for the standardized date string. Defaults to '%Y-%m-%d'.\n",
    "\n",
    "        Returns:\n",
    "            str or None: The standardized date string, or None if the date_string cannot be parsed.\n",
    "    \"\"\"\n",
    "    for input_format in input_formats:\n",
    "        try:\n",
    "            parsed_date = datetime.datetime.strptime(date_string, input_format)\n",
    "            return parsed_date.strftime(output_format)\n",
    "        except ValueError:\n",
    "            continue  # Try the next format\n",
    "\n",
    "    # All formats failed; consider logging this or raise error\n",
    "    print(f\"Warning: Unable to parse date string '{date_string}' with given formats.\")\n",
    "    return None\n",
    "\n",
    "\n",
    "# Define date formats to attempt parsing with\n",
    "input_formats = [\"%m/%d/%Y\", \"%d/%m/%Y\", \"%Y.%m.%d\", \"%B %d, %Y\"]\n",
    "date_str = '21/06/2023'\n",
    "\n",
    "date_standardize = standardize_date(date_str, input_formats)\n",
    "date_standardize\n"
   ]
  },
  {
   "cell_type": "code",
   "execution_count": null,
   "metadata": {},
   "outputs": [],
   "source": []
  }
 ],
 "metadata": {
  "kernelspec": {
   "display_name": ".venv",
   "language": "python",
   "name": "python3"
  },
  "language_info": {
   "codemirror_mode": {
    "name": "ipython",
    "version": 3
   },
   "file_extension": ".py",
   "mimetype": "text/x-python",
   "name": "python",
   "nbconvert_exporter": "python",
   "pygments_lexer": "ipython3",
   "version": "3.12.3"
  }
 },
 "nbformat": 4,
 "nbformat_minor": 2
}
