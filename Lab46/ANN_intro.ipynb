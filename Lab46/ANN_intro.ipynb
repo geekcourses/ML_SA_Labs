{
 "cells": [
  {
   "cell_type": "markdown",
   "metadata": {},
   "source": [
    "250*160 = 40000\n",
    "\n",
    "\n",
    "GPT = Generative Pretrained Transformers\n",
    "\n",
    "\n",
    "Transformer => GAN"
   ]
  }
 ],
 "metadata": {
  "language_info": {
   "name": "python"
  }
 },
 "nbformat": 4,
 "nbformat_minor": 2
}
