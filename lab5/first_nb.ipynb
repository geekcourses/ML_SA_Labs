{
 "cells": [
  {
   "cell_type": "markdown",
   "id": "e1e2522e-0353-4625-87fb-4a1c342a805d",
   "metadata": {},
   "source": [
    "# My first Jupyter Notebook "
   ]
  },
  {
   "cell_type": "code",
   "execution_count": 1,
   "id": "cbe0fc63-95b2-4b53-981d-7825c1b258c4",
   "metadata": {},
   "outputs": [
    {
     "name": "stdout",
     "output_type": "stream",
     "text": [
      "hi\n"
     ]
    }
   ],
   "source": [
    "print('hi')"
   ]
  },
  {
   "cell_type": "code",
   "execution_count": 2,
   "id": "06d97a45-9e61-42d5-bd56-ab4ac9be39de",
   "metadata": {},
   "outputs": [
    {
     "name": "stdout",
     "output_type": "stream",
     "text": [
      "35\n"
     ]
    }
   ],
   "source": [
    "print(1+34)"
   ]
  },
  {
   "cell_type": "code",
   "execution_count": null,
   "id": "b1546365-7ac9-42d7-bebe-b209940f1678",
   "metadata": {},
   "outputs": [],
   "source": []
  }
 ],
 "metadata": {
  "kernelspec": {
   "display_name": "Python 3 (ipykernel)",
   "language": "python",
   "name": "python3"
  },
  "language_info": {
   "codemirror_mode": {
    "name": "ipython",
    "version": 3
   },
   "file_extension": ".py",
   "mimetype": "text/x-python",
   "name": "python",
   "nbconvert_exporter": "python",
   "pygments_lexer": "ipython3",
   "version": "3.12.0"
  }
 },
 "nbformat": 4,
 "nbformat_minor": 5
}
